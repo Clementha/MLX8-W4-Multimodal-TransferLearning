{
 "cells": [
  {
   "cell_type": "code",
   "execution_count": 3,
   "id": "fcf382eb",
   "metadata": {},
   "outputs": [],
   "source": [
    "from pathlib import Path\n",
    "import pandas as pd\n",
    "import matplotlib.pyplot as plt"
   ]
  },
  {
   "cell_type": "code",
   "execution_count": 4,
   "id": "c82f677e",
   "metadata": {},
   "outputs": [
    {
     "name": "stdout",
     "output_type": "stream",
     "text": [
      "🔢 Input IDs:\n",
      " tensor([[  8420,    374,    264,  11652,     13, 151643, 151643, 151643, 151643,\n",
      "         151643, 151643, 151643, 151643, 151643, 151643, 151643, 151643, 151643,\n",
      "         151643, 151643, 151643, 151643, 151643, 151643, 151643, 151643, 151643,\n",
      "         151643, 151643, 151643, 151643, 151643],\n",
      "        [ 14990,      0,   1879,     13, 151643, 151643, 151643, 151643, 151643,\n",
      "         151643, 151643, 151643, 151643, 151643, 151643, 151643, 151643, 151643,\n",
      "         151643, 151643, 151643, 151643, 151643, 151643, 151643, 151643, 151643,\n",
      "         151643, 151643, 151643, 151643, 151643]])\n",
      "\n",
      "🎭 Attention mask:\n",
      " tensor([[1, 1, 1, 1, 1, 1, 0, 0, 0, 0, 0, 0, 0, 0, 0, 0, 0, 0, 0, 0, 0, 0, 0, 0,\n",
      "         0, 0, 0, 0, 0, 0, 0, 0],\n",
      "        [1, 1, 1, 1, 1, 0, 0, 0, 0, 0, 0, 0, 0, 0, 0, 0, 0, 0, 0, 0, 0, 0, 0, 0,\n",
      "         0, 0, 0, 0, 0, 0, 0, 0]])\n",
      "Original: Here is a sentence.\n",
      "Tokens: ['Here', 'Ġis', 'Ġa', 'Ġsentence', '.']\n",
      "Token IDs: [8420, 374, 264, 11652, 13, 151643, 151643, 151643, 151643, 151643, 151643, 151643, 151643, 151643, 151643, 151643, 151643, 151643, 151643, 151643, 151643, 151643, 151643, 151643, 151643, 151643, 151643, 151643, 151643, 151643, 151643, 151643]\n",
      "Decoded: Here is a sentence.\n",
      "Original: hello! world.\n",
      "Tokens: ['hello', '!', 'Ġworld', '.']\n",
      "Token IDs: [14990, 0, 1879, 13, 151643, 151643, 151643, 151643, 151643, 151643, 151643, 151643, 151643, 151643, 151643, 151643, 151643, 151643, 151643, 151643, 151643, 151643, 151643, 151643, 151643, 151643, 151643, 151643, 151643, 151643, 151643, 151643]\n",
      "Decoded: hello! world.\n",
      "Other info\n",
      "Vocab size: 151643\n"
     ]
    }
   ],
   "source": [
    "from transformers import AutoTokenizer\n",
    "\n",
    "tokenizer = AutoTokenizer.from_pretrained(\"Qwen/Qwen3-Embedding-0.6B\")\n",
    "\n",
    "list_of_captions = ['Here is a sentence.', 'hello! world.']\n",
    "\n",
    "# Tokenise a batch of captions\n",
    "tokens = tokenizer(\n",
    "  list_of_captions,\n",
    "  padding=\"max_length\",\n",
    "  truncation=True,\n",
    "  max_length=32,\n",
    "  return_tensors=\"pt\"\n",
    ")\n",
    "\n",
    "input_ids = tokens[\"input_ids\"]\n",
    "attention_mask = tokens[\"attention_mask\"]\n",
    "\n",
    "print(\"🔢 Input IDs:\\n\", input_ids)\n",
    "print(\"\\n🎭 Attention mask:\\n\", attention_mask)\n",
    "\n",
    "# 🔍 View token splits and ids\n",
    "for i, caption in enumerate(list_of_captions):\n",
    "  print(f\"Original: {caption}\")\n",
    "  print(\"Tokens:\", tokenizer.tokenize(caption))\n",
    "  print(\"Token IDs:\", input_ids[i].tolist())\n",
    "  print(\"Decoded:\", tokenizer.decode(input_ids[i], skip_special_tokens=True))\n",
    "\n",
    "print(\"Other info\")\n",
    "print(\"Vocab size:\", tokenizer.vocab_size)\n",
    "\n"
   ]
  },
  {
   "cell_type": "code",
   "execution_count": 5,
   "id": "baf692f4",
   "metadata": {},
   "outputs": [
    {
     "data": {
      "image/png": "[encoded data removed]",
      "text/plain": [
       "<Figure size 640x480 with 1 Axes>"
      ]
     },
     "metadata": {},
     "output_type": "display_data"
    },
    {
     "name": "stdout",
     "output_type": "stream",
     "text": [
      "Max token length: 85\n"
     ]
    }
   ],
   "source": [
    "# Get max len and distrubtion of flickr captions\n",
    "metadata_path = Path(\"/home/bwilliams/mlx/week4/MLX8-W4-Multimodal-TransferLearning/.ben/data/flickr30k/metadata.parquet\")\n",
    "df = pd.read_parquet(metadata_path)\n",
    "\n",
    "# Tokenize each caption and count tokens\n",
    "token_lengths = [len(tokenizer.tokenize(caption)) for caption in df[\"caption\"].tolist()]\n",
    "\n",
    "# Plot histogram\n",
    "plt.hist(token_lengths, bins=30, color='blue', edgecolor='black')\n",
    "plt.title(\"Distribution of Token Counts in Flickr30k Captions\")\n",
    "plt.xlabel(\"Number of Tokens\")\n",
    "plt.ylabel(\"Frequency\")\n",
    "plt.show()\n",
    "\n",
    "# print max len\n",
    "print(\"Max token length:\", max(token_lengths))"
   ]
  },
  {
   "cell_type": "markdown",
   "id": "b2943fc2",
   "metadata": {},
   "source": [
    "### Now work on adding embeddings"
   ]
  },
  {
   "cell_type": "code",
   "execution_count": 9,
   "id": "7c7479ff",
   "metadata": {},
   "outputs": [],
   "source": [
    "from transformers import AutoTokenizer, AutoModel\n",
    "\n",
    "# 1. Load tokenizer + model\n",
    "tokenizer = AutoTokenizer.from_pretrained(\"Qwen/Qwen3-Embedding-0.6B\")\n",
    "model = AutoModel.from_pretrained(\"Qwen/Qwen3-Embedding-0.6B\")"
   ]
  },
  {
   "cell_type": "code",
   "execution_count": 10,
   "id": "d66ff13f",
   "metadata": {},
   "outputs": [
    {
     "name": "stdout",
     "output_type": "stream",
     "text": [
      "Vocab size: 151669\n",
      "Hidden size: 1024\n",
      "Embeddings shape: torch.Size([2, 6, 1024])\n",
      "Embeddings: tensor([[[-0.0029, -0.0125, -0.0142,  ...,  0.0469,  0.0210,  0.0479],\n",
      "         [ 0.0183,  0.0234, -0.0554,  ...,  0.0053,  0.0334,  0.0474],\n",
      "         [-0.0240,  0.0259, -0.0601,  ...,  0.0250,  0.0088,  0.0332],\n",
      "         [ 0.0170, -0.0674,  0.0131,  ...,  0.0086,  0.0210, -0.0094],\n",
      "         [ 0.0066,  0.0640, -0.0623,  ..., -0.0096,  0.0074, -0.0248],\n",
      "         [-0.0043,  0.0435, -0.0334,  ..., -0.0039,  0.0449,  0.0320]],\n",
      "\n",
      "        [[-0.0391,  0.0039,  0.0175,  ...,  0.0192, -0.0349, -0.0088],\n",
      "         [-0.0138, -0.0613, -0.0277,  ..., -0.0181, -0.0325, -0.0339],\n",
      "         [-0.0031,  0.0327, -0.0703,  ...,  0.0138, -0.0144,  0.0128],\n",
      "         [-0.0043,  0.0435, -0.0334,  ..., -0.0039,  0.0449,  0.0320],\n",
      "         [-0.0043,  0.0435, -0.0334,  ..., -0.0039,  0.0449,  0.0320],\n",
      "         [-0.0043,  0.0435, -0.0334,  ..., -0.0039,  0.0449,  0.0320]]],\n",
      "       grad_fn=<EmbeddingBackward0>)\n"
     ]
    }
   ],
   "source": [
    "# 2. Grab the embedding layer\n",
    "embed_layer = model.get_input_embeddings()  \n",
    "# This is an nn.Embedding of shape (vocab_size, hidden_size)\n",
    "print(\"Vocab size:\", embed_layer.num_embeddings)\n",
    "print(\"Hidden size:\", embed_layer.embedding_dim)\n",
    "\n",
    "# 3. Tokenise some captions\n",
    "example_data = [\"Here is a sentence.\", \"hello world!\"]\n",
    "tokens = tokenizer(example_data, padding=True, truncation=True, max_length=50, return_tensors=\"pt\")\n",
    "input_ids = tokens[\"input_ids\"]  # (batch, seq_len)\n",
    "\n",
    "# 4. Lookup embeddings\n",
    "embeddings = embed_layer(input_ids)  \n",
    "# -> Tensor of shape (batch, seq_len, hidden_size)\n",
    "print(\"Embeddings shape:\", embeddings.shape)\n",
    "print(\"Embeddings:\", embeddings)\n",
    "\n",
    "\n"
   ]
  },
  {
   "cell_type": "markdown",
   "id": "a247b7cf",
   "metadata": {},
   "source": [
    "#### Check some outputs\n",
    "- CLS is added by bert as it was originally trained on classification tasks, so it would pack a summary of the whole sentence in this token.\n",
    "- SEP is a separator token, that marks end of sequence\n",
    "- PAD is pad"
   ]
  },
  {
   "cell_type": "code",
   "execution_count": 11,
   "id": "1514fd4d",
   "metadata": {},
   "outputs": [
    {
     "name": "stdout",
     "output_type": "stream",
     "text": [
      "\n",
      "Caption: Here is a sentence.\n",
      "Token: Here, ID: 8420, Embedding shape: torch.Size([1024])\n",
      "Token:  is, ID: 374, Embedding shape: torch.Size([1024])\n",
      "Token:  a, ID: 264, Embedding shape: torch.Size([1024])\n",
      "Token:  sentence, ID: 11652, Embedding shape: torch.Size([1024])\n",
      "Token: ., ID: 13, Embedding shape: torch.Size([1024])\n",
      "Token: <|endoftext|>, ID: 151643, Embedding shape: torch.Size([1024])\n",
      "\n",
      "Caption: hello world!\n",
      "Token: hello, ID: 14990, Embedding shape: torch.Size([1024])\n",
      "Token:  world, ID: 1879, Embedding shape: torch.Size([1024])\n",
      "Token: !, ID: 0, Embedding shape: torch.Size([1024])\n",
      "Token: <|endoftext|>, ID: 151643, Embedding shape: torch.Size([1024])\n",
      "Token: <|endoftext|>, ID: 151643, Embedding shape: torch.Size([1024])\n",
      "Token: <|endoftext|>, ID: 151643, Embedding shape: torch.Size([1024])\n"
     ]
    }
   ],
   "source": [
    "# Print token IDs and their corresponding embeddings\n",
    "for i, caption in enumerate(example_data):     \n",
    "    print(f\"\\nCaption: {caption}\")\n",
    "    token_ids = input_ids[i].tolist()\n",
    "    token_embeddings = embeddings[i]  # (seq_len, hidden_size)\n",
    "    \n",
    "    for token_id, emb in zip(token_ids, token_embeddings):\n",
    "        token = tokenizer.decode([token_id])\n",
    "        print(f\"Token: {token}, ID: {token_id}, Embedding shape: {emb.shape}\")"
   ]
  },
  {
   "cell_type": "code",
   "execution_count": null,
   "id": "833e5eaf",
   "metadata": {},
   "outputs": [],
   "source": []
  }
 ],
 "metadata": {
  "kernelspec": {
   "display_name": "pytorch_uv",
   "language": "python",
   "name": "python3"
  },
  "language_info": {
   "codemirror_mode": {
    "name": "ipython",
    "version": 3
   },
   "file_extension": ".py",
   "mimetype": "text/x-python",
   "name": "python",
   "nbconvert_exporter": "python",
   "pygments_lexer": "ipython3",
   "version": "3.10.18"
  }
 },
 "nbformat": 4,
 "nbformat_minor": 5
}
