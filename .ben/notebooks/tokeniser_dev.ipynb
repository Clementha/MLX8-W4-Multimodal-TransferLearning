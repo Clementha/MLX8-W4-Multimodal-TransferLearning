{
 "cells": [
  {
   "cell_type": "code",
   "execution_count": 16,
   "id": "fcf382eb",
   "metadata": {},
   "outputs": [],
   "source": [
    "from pathlib import Path\n",
    "import pandas as pd\n",
    "import matplotlib.pyplot as plt"
   ]
  },
  {
   "cell_type": "code",
   "execution_count": 5,
   "id": "c82f677e",
   "metadata": {},
   "outputs": [
    {
     "name": "stdout",
     "output_type": "stream",
     "text": [
      "🔢 Input IDs:\n",
      " tensor([[ 101, 2182, 2003, 1037, 6251, 1012,  102,    0,    0,    0,    0,    0,\n",
      "            0,    0,    0,    0,    0,    0,    0,    0,    0,    0,    0,    0,\n",
      "            0,    0,    0,    0,    0,    0,    0,    0],\n",
      "        [ 101, 7592,  999, 2088, 1012,  102,    0,    0,    0,    0,    0,    0,\n",
      "            0,    0,    0,    0,    0,    0,    0,    0,    0,    0,    0,    0,\n",
      "            0,    0,    0,    0,    0,    0,    0,    0]])\n",
      "\n",
      "🎭 Attention mask:\n",
      " tensor([[1, 1, 1, 1, 1, 1, 1, 0, 0, 0, 0, 0, 0, 0, 0, 0, 0, 0, 0, 0, 0, 0, 0, 0,\n",
      "         0, 0, 0, 0, 0, 0, 0, 0],\n",
      "        [1, 1, 1, 1, 1, 1, 0, 0, 0, 0, 0, 0, 0, 0, 0, 0, 0, 0, 0, 0, 0, 0, 0, 0,\n",
      "         0, 0, 0, 0, 0, 0, 0, 0]])\n",
      "Original: Here is a sentence.\n",
      "Tokens: ['here', 'is', 'a', 'sentence', '.']\n",
      "Token IDs: [101, 2182, 2003, 1037, 6251, 1012, 102, 0, 0, 0, 0, 0, 0, 0, 0, 0, 0, 0, 0, 0, 0, 0, 0, 0, 0, 0, 0, 0, 0, 0, 0, 0]\n",
      "Decoded: here is a sentence.\n",
      "Original: hello! world.\n",
      "Tokens: ['hello', '!', 'world', '.']\n",
      "Token IDs: [101, 7592, 999, 2088, 1012, 102, 0, 0, 0, 0, 0, 0, 0, 0, 0, 0, 0, 0, 0, 0, 0, 0, 0, 0, 0, 0, 0, 0, 0, 0, 0, 0]\n",
      "Decoded: hello! world.\n",
      "Other info\n",
      "Vocab size: 30522\n"
     ]
    }
   ],
   "source": [
    "from transformers import AutoTokenizer\n",
    "\n",
    "tokenizer = AutoTokenizer.from_pretrained(\"bert-base-uncased\")\n",
    "\n",
    "list_of_captions = ['Here is a sentence.', 'hello! world.']\n",
    "\n",
    "# Tokenise a batch of captions\n",
    "tokens = tokenizer(\n",
    "  list_of_captions,\n",
    "  padding=\"max_length\",\n",
    "  truncation=True,\n",
    "  max_length=32,\n",
    "  return_tensors=\"pt\"\n",
    ")\n",
    "\n",
    "input_ids = tokens[\"input_ids\"]\n",
    "attention_mask = tokens[\"attention_mask\"]\n",
    "\n",
    "print(\"🔢 Input IDs:\\n\", input_ids)\n",
    "print(\"\\n🎭 Attention mask:\\n\", attention_mask)\n",
    "\n",
    "# 🔍 View token splits and ids\n",
    "for i, caption in enumerate(list_of_captions):\n",
    "  print(f\"Original: {caption}\")\n",
    "  print(\"Tokens:\", tokenizer.tokenize(caption))\n",
    "  print(\"Token IDs:\", input_ids[i].tolist())\n",
    "  print(\"Decoded:\", tokenizer.decode(input_ids[i], skip_special_tokens=True))\n",
    "\n",
    "print(\"Other info\")\n",
    "print(\"Vocab size:\", tokenizer.vocab_size)\n",
    "\n"
   ]
  },
  {
   "cell_type": "code",
   "execution_count": 18,
   "id": "baf692f4",
   "metadata": {},
   "outputs": [
    {
     "data": {
      "image/png": "[encoded data removed]",
      "text/plain": [
       "<Figure size 640x480 with 1 Axes>"
      ]
     },
     "metadata": {},
     "output_type": "display_data"
    },
    {
     "name": "stdout",
     "output_type": "stream",
     "text": [
      "Max token length: 86\n"
     ]
    }
   ],
   "source": [
    "# Get max len and distrubtion of flickr captions\n",
    "metadata_path = Path(\"/home/bwilliams/mlx/week4/MLX8-W4-Multimodal-TransferLearning/.ben/data/flickr30k/metadata.parquet\")\n",
    "df = pd.read_parquet(metadata_path)\n",
    "\n",
    "# Tokenize each caption and count tokens\n",
    "token_lengths = [len(tokenizer.tokenize(caption)) for caption in df[\"caption\"].tolist()]\n",
    "\n",
    "# Plot histogram\n",
    "plt.hist(token_lengths, bins=30, color='blue', edgecolor='black')\n",
    "plt.title(\"Distribution of Token Counts in Flickr30k Captions\")\n",
    "plt.xlabel(\"Number of Tokens\")\n",
    "plt.ylabel(\"Frequency\")\n",
    "plt.show()\n",
    "\n",
    "# print max len\n",
    "print(\"Max token length:\", max(token_lengths))"
   ]
  },
  {
   "cell_type": "markdown",
   "id": "b2943fc2",
   "metadata": {},
   "source": [
    "### Now work on adding embeddings"
   ]
  },
  {
   "cell_type": "code",
   "execution_count": null,
   "id": "7c7479ff",
   "metadata": {},
   "outputs": [],
   "source": [
    "from transformers import AutoTokenizer, AutoModel\n",
    "\n",
    "# 1. Load tokenizer + model\n",
    "tokenizer = AutoTokenizer.from_pretrained(\"bert-base-uncased\")\n",
    "model = AutoModel.from_pretrained(\"bert-base-uncased\")"
   ]
  },
  {
   "cell_type": "code",
   "execution_count": 23,
   "id": "d66ff13f",
   "metadata": {},
   "outputs": [
    {
     "name": "stdout",
     "output_type": "stream",
     "text": [
      "Vocab size: 30522\n",
      "Hidden size: 768\n",
      "Embeddings shape: torch.Size([2, 7, 768])\n",
      "Embeddings: tensor([[[ 0.0136, -0.0265, -0.0235,  ...,  0.0087,  0.0071,  0.0151],\n",
      "         [-0.0415,  0.0328, -0.0850,  ...,  0.0069,  0.0045,  0.0132],\n",
      "         [-0.0360, -0.0246, -0.0257,  ...,  0.0034, -0.0018,  0.0269],\n",
      "         ...,\n",
      "         [ 0.0321,  0.0063, -0.0064,  ..., -0.0012, -0.1081, -0.0895],\n",
      "         [-0.0207, -0.0020, -0.0118,  ...,  0.0128,  0.0200,  0.0259],\n",
      "         [-0.0145, -0.0100,  0.0060,  ..., -0.0250,  0.0046, -0.0015]],\n",
      "\n",
      "        [[ 0.0136, -0.0265, -0.0235,  ...,  0.0087,  0.0071,  0.0151],\n",
      "         [-0.0043, -0.0330, -0.0217,  ..., -0.0425, -0.0127, -0.0389],\n",
      "         [ 0.0244,  0.0322,  0.0024,  ..., -0.0424, -0.0054, -0.0284],\n",
      "         ...,\n",
      "         [-0.0145, -0.0100,  0.0060,  ..., -0.0250,  0.0046, -0.0015],\n",
      "         [-0.0102, -0.0615, -0.0265,  ..., -0.0199, -0.0372, -0.0098],\n",
      "         [-0.0102, -0.0615, -0.0265,  ..., -0.0199, -0.0372, -0.0098]]],\n",
      "       grad_fn=<EmbeddingBackward0>)\n"
     ]
    }
   ],
   "source": [
    "# 2. Grab the embedding layer\n",
    "embed_layer = model.get_input_embeddings()  \n",
    "# This is an nn.Embedding of shape (vocab_size, hidden_size)\n",
    "print(\"Vocab size:\", embed_layer.num_embeddings)\n",
    "print(\"Hidden size:\", embed_layer.embedding_dim)\n",
    "\n",
    "# 3. Tokenise some captions\n",
    "example_data = [\"Here is a sentence.\", \"hello world!\"]\n",
    "tokens = tokenizer(example_data, padding=True, truncation=True, max_length=50, return_tensors=\"pt\")\n",
    "input_ids = tokens[\"input_ids\"]  # (batch, seq_len)\n",
    "\n",
    "# 4. Lookup embeddings\n",
    "embeddings = embed_layer(input_ids)  \n",
    "# -> Tensor of shape (batch, seq_len, hidden_size)\n",
    "print(\"Embeddings shape:\", embeddings.shape)\n",
    "print(\"Embeddings:\", embeddings)\n",
    "\n",
    "\n"
   ]
  },
  {
   "cell_type": "markdown",
   "id": "a247b7cf",
   "metadata": {},
   "source": [
    "#### Check some outputs\n",
    "- CLS is added by bert as it was originally trained on classification tasks, so it would pack a summary of the whole sentence in this token.\n",
    "- SEP is a separator token, that marks end of sequence\n",
    "- PAD is pad"
   ]
  },
  {
   "cell_type": "code",
   "execution_count": null,
   "id": "1514fd4d",
   "metadata": {},
   "outputs": [
    {
     "name": "stdout",
     "output_type": "stream",
     "text": [
      "\n",
      "Caption: Here is a sentence.\n",
      "Token: [CLS], ID: 101, Embedding shape: torch.Size([768])\n",
      "Token: here, ID: 2182, Embedding shape: torch.Size([768])\n",
      "Token: is, ID: 2003, Embedding shape: torch.Size([768])\n",
      "Token: a, ID: 1037, Embedding shape: torch.Size([768])\n",
      "Token: sentence, ID: 6251, Embedding shape: torch.Size([768])\n",
      "Token: ., ID: 1012, Embedding shape: torch.Size([768])\n",
      "Token: [SEP], ID: 102, Embedding shape: torch.Size([768])\n",
      "\n",
      "Caption: hello world!\n",
      "Token: [CLS], ID: 101, Embedding shape: torch.Size([768])\n",
      "Token: hello, ID: 7592, Embedding shape: torch.Size([768])\n",
      "Token: world, ID: 2088, Embedding shape: torch.Size([768])\n",
      "Token: !, ID: 999, Embedding shape: torch.Size([768])\n",
      "Token: [SEP], ID: 102, Embedding shape: torch.Size([768])\n",
      "Token: [PAD], ID: 0, Embedding shape: torch.Size([768])\n",
      "Token: [PAD], ID: 0, Embedding shape: torch.Size([768])\n"
     ]
    }
   ],
   "source": [
    "# Print token IDs and their corresponding embeddings\n",
    "for i, caption in enumerate(example_data):     \n",
    "    print(f\"\\nCaption: {caption}\")\n",
    "    token_ids = input_ids[i].tolist()\n",
    "    token_embeddings = embeddings[i]  # (seq_len, hidden_size)\n",
    "    \n",
    "    for token_id, emb in zip(token_ids, token_embeddings):\n",
    "        token = tokenizer.decode([token_id])\n",
    "        print(f\"Token: {token}, ID: {token_id}, Embedding shape: {emb.shape}\")"
   ]
  },
  {
   "cell_type": "code",
   "execution_count": null,
   "id": "833e5eaf",
   "metadata": {},
   "outputs": [],
   "source": []
  }
 ],
 "metadata": {
  "kernelspec": {
   "display_name": "pytorch_uv",
   "language": "python",
   "name": "python3"
  },
  "language_info": {
   "codemirror_mode": {
    "name": "ipython",
    "version": 3
   },
   "file_extension": ".py",
   "mimetype": "text/x-python",
   "name": "python",
   "nbconvert_exporter": "python",
   "pygments_lexer": "ipython3",
   "version": "3.10.18"
  }
 },
 "nbformat": 4,
 "nbformat_minor": 5
}
