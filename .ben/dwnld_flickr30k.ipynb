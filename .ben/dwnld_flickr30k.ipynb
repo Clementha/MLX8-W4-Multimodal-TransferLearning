{
 "cells": [
  {
   "cell_type": "code",
   "execution_count": null,
   "id": "749497f0",
   "metadata": {},
   "outputs": [],
   "source": [
    "from datasets import load_dataset\n",
    "import pandas as pd\n",
    "from pathlib import Path\n",
    "from tqdm.notebook import tqdm\n",
    "from PIL import Image\n",
    "import matplotlib.pyplot as plt"
   ]
  },
  {
   "cell_type": "markdown",
   "id": "2fe00420",
   "metadata": {},
   "source": [
    "### Download the dataset from hugging face"
   ]
  },
  {
   "cell_type": "code",
   "execution_count": 5,
   "id": "02801cb0",
   "metadata": {},
   "outputs": [
    {
     "data": {
      "application/vnd.jupyter.widget-view+json": {
       "model_id": "ea2ba12d9cbd41e888d76482adf832aa",
       "version_major": 2,
       "version_minor": 0
      },
      "text/plain": [
       "Writing test:   0%|          | 0/31014 [00:00<?, ?img/s]"
      ]
     },
     "metadata": {},
     "output_type": "display_data"
    }
   ],
   "source": [
    "\n",
    "\n",
    "# 0️⃣ Setup\n",
    "ROOT    = Path(\"data/flickr30k\")\n",
    "IMG_DIR = ROOT / \"images\"\n",
    "ROOT.mkdir(parents=True, exist_ok=True)\n",
    "IMG_DIR.mkdir(exist_ok=True)\n",
    "\n",
    "# 1️⃣ Download & load with HF’s built-in progress bar\n",
    "ds_all = load_dataset(\"nlphuji/flickr30k\")\n",
    "\n",
    "# 2️⃣ Build & save metadata.parquet\n",
    "frames = []\n",
    "for split_name, ds in ds_all.items():\n",
    "    frames.append(pd.DataFrame({\n",
    "        \"filename\": ds[\"filename\"],\n",
    "        \"caption\":  [c[0] for c in ds[\"caption\"]],\n",
    "        \"split\":    split_name,\n",
    "    }))\n",
    "df = pd.concat(frames, ignore_index=True)\n",
    "df.to_parquet(ROOT / \"metadata.parquet\", index=False)\n",
    "\n",
    "# 3️⃣ Save images with your own progress bars\n",
    "for split_name, ds in ds_all.items():\n",
    "    for example in tqdm(ds, desc=f\"Writing {split_name}\", unit=\"img\"):\n",
    "        img = example[\"image\"]       # a PIL.Image\n",
    "        img.save(IMG_DIR / example[\"filename\"])\n",
    "\n",
    "# 4️⃣ Sanity check\n",
    "print(f\"Saved {len(list(IMG_DIR.glob('*.jpg')))} images into {IMG_DIR}\")\n"
   ]
  },
  {
   "cell_type": "markdown",
   "id": "c0bf1a85",
   "metadata": {},
   "source": [
    "### Print an image and caption"
   ]
  },
  {
   "cell_type": "code",
   "execution_count": null,
   "id": "aecf5844",
   "metadata": {},
   "outputs": [],
   "source": [
    "# Sanity check: show first image + caption\n",
    "\n",
    "# Load your metadata\n",
    "meta_path = Path(\"data/flickr30k/metadata.parquet\")\n",
    "df = pd.read_parquet(meta_path)\n",
    "\n",
    "# Grab the first row\n",
    "first = df.iloc[0]\n",
    "img_path = Path(\"data/flickr30k/images\") / first[\"filename\"]\n",
    "\n",
    "# Open & display\n",
    "img = Image.open(img_path)\n",
    "plt.imshow(img)\n",
    "plt.axis(\"off\")\n",
    "plt.title(first[\"caption\"])\n",
    "plt.show()\n",
    "\n",
    "# Also print caption text\n",
    "print(\"Caption:\", first[\"caption\"])\n"
   ]
  }
 ],
 "metadata": {
  "kernelspec": {
   "display_name": "pytorch_uv",
   "language": "python",
   "name": "python3"
  },
  "language_info": {
   "codemirror_mode": {
    "name": "ipython",
    "version": 3
   },
   "file_extension": ".py",
   "mimetype": "text/x-python",
   "name": "python",
   "nbconvert_exporter": "python",
   "pygments_lexer": "ipython3",
   "version": "3.10.18"
  }
 },
 "nbformat": 4,
 "nbformat_minor": 5
}
